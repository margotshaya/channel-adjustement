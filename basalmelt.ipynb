{
 "cells": [
  {
   "cell_type": "code",
   "execution_count": null,
   "id": "f3ff56fa-c2cb-4fdb-8624-5729f62479dc",
   "metadata": {},
   "outputs": [],
   "source": [
    " # updating the bottom by remeshing\n",
    "\n",
    "bottom_points = [[xb[i], yb[i]] for i in range(np.size(xb))]\n",
    "f = Function(V).interpolate(u)\n",
    "u_bottom=f.at(bottom_points)\n",
    "    \n",
    "ux = np.array([u_bottom[i][0] for i in range(len(u_bottom))])\n",
    "uy = np.array([u_bottom[i][1] for i in range(len(u_bottom))])\n",
    "\n",
    "delx = -np.append(np.append(0,xb[2:]-xb[:-2]),0)\n",
    "dely = np.append(np.append(0,yb[2:]-yb[:-2]),0)\n",
    "nn = np.sqrt(delx**2+dely**2)\n",
    "nn[nn==0] = 1\n",
    "nx = -dely/nn\n",
    "ny = delx/nn\n",
    "m = 10*melt(xb)\n",
    "    \n",
    "xb += ux*dt + m*nx*dt\n",
    "yb += uy*dt + m*ny*dt"
   ]
  }
 ],
 "metadata": {
  "kernelspec": {
   "display_name": "Python 3 (ipykernel)",
   "language": "python",
   "name": "python3"
  },
  "language_info": {
   "codemirror_mode": {
    "name": "ipython",
    "version": 3
   },
   "file_extension": ".py",
   "mimetype": "text/x-python",
   "name": "python",
   "nbconvert_exporter": "python",
   "pygments_lexer": "ipython3",
   "version": "3.10.12"
  }
 },
 "nbformat": 4,
 "nbformat_minor": 5
}
